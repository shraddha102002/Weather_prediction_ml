{
 "cells": [
  {
   "cell_type": "code",
   "execution_count": 5,
   "id": "b645e6cf",
   "metadata": {},
   "outputs": [],
   "source": [
    "import pandas as pd\n",
    "import numpy as np\n",
    "\n",
    "\n"
   ]
  },
  {
   "cell_type": "code",
   "execution_count": 6,
   "id": "7f86fd3d",
   "metadata": {},
   "outputs": [],
   "source": [
    "weather = pd.read_csv(\"C:/Users/SHRADDHA/Desktop/weather_data.csv\", index_col=\"DATE\")"
   ]
  },
  {
   "cell_type": "code",
   "execution_count": 7,
   "id": "de0d83f5",
   "metadata": {},
   "outputs": [
    {
     "data": {
      "text/html": [
       "<div>\n",
       "<style scoped>\n",
       "    .dataframe tbody tr th:only-of-type {\n",
       "        vertical-align: middle;\n",
       "    }\n",
       "\n",
       "    .dataframe tbody tr th {\n",
       "        vertical-align: top;\n",
       "    }\n",
       "\n",
       "    .dataframe thead th {\n",
       "        text-align: right;\n",
       "    }\n",
       "</style>\n",
       "<table border=\"1\" class=\"dataframe\">\n",
       "  <thead>\n",
       "    <tr style=\"text-align: right;\">\n",
       "      <th></th>\n",
       "      <th>STATION</th>\n",
       "      <th>NAME</th>\n",
       "      <th>AWND</th>\n",
       "      <th>PGTM</th>\n",
       "      <th>PRCP</th>\n",
       "      <th>TAVG</th>\n",
       "      <th>TMAX</th>\n",
       "      <th>TMIN</th>\n",
       "      <th>WDF2</th>\n",
       "      <th>WDF5</th>\n",
       "      <th>WSF2</th>\n",
       "      <th>WSF5</th>\n",
       "      <th>WT01</th>\n",
       "      <th>WT02</th>\n",
       "      <th>WT03</th>\n",
       "      <th>WT05</th>\n",
       "      <th>WT08</th>\n",
       "    </tr>\n",
       "    <tr>\n",
       "      <th>DATE</th>\n",
       "      <th></th>\n",
       "      <th></th>\n",
       "      <th></th>\n",
       "      <th></th>\n",
       "      <th></th>\n",
       "      <th></th>\n",
       "      <th></th>\n",
       "      <th></th>\n",
       "      <th></th>\n",
       "      <th></th>\n",
       "      <th></th>\n",
       "      <th></th>\n",
       "      <th></th>\n",
       "      <th></th>\n",
       "      <th></th>\n",
       "      <th></th>\n",
       "      <th></th>\n",
       "    </tr>\n",
       "  </thead>\n",
       "  <tbody>\n",
       "    <tr>\n",
       "      <th>01-01-2021</th>\n",
       "      <td>USW00023230</td>\n",
       "      <td>OAKLAND INTERNATIONAL AIRPORT, CA US</td>\n",
       "      <td>4.47</td>\n",
       "      <td>NaN</td>\n",
       "      <td>0.00</td>\n",
       "      <td>NaN</td>\n",
       "      <td>60.0</td>\n",
       "      <td>40.0</td>\n",
       "      <td>290</td>\n",
       "      <td>290.0</td>\n",
       "      <td>15.0</td>\n",
       "      <td>18.1</td>\n",
       "      <td>NaN</td>\n",
       "      <td>NaN</td>\n",
       "      <td>NaN</td>\n",
       "      <td>NaN</td>\n",
       "      <td>1.0</td>\n",
       "    </tr>\n",
       "    <tr>\n",
       "      <th>02-01-2021</th>\n",
       "      <td>USW00023230</td>\n",
       "      <td>OAKLAND INTERNATIONAL AIRPORT, CA US</td>\n",
       "      <td>2.24</td>\n",
       "      <td>NaN</td>\n",
       "      <td>0.14</td>\n",
       "      <td>NaN</td>\n",
       "      <td>57.0</td>\n",
       "      <td>51.0</td>\n",
       "      <td>230</td>\n",
       "      <td>230.0</td>\n",
       "      <td>10.1</td>\n",
       "      <td>13.0</td>\n",
       "      <td>1.0</td>\n",
       "      <td>NaN</td>\n",
       "      <td>NaN</td>\n",
       "      <td>NaN</td>\n",
       "      <td>1.0</td>\n",
       "    </tr>\n",
       "    <tr>\n",
       "      <th>03-01-2021</th>\n",
       "      <td>USW00023230</td>\n",
       "      <td>OAKLAND INTERNATIONAL AIRPORT, CA US</td>\n",
       "      <td>2.91</td>\n",
       "      <td>NaN</td>\n",
       "      <td>0.00</td>\n",
       "      <td>NaN</td>\n",
       "      <td>56.0</td>\n",
       "      <td>49.0</td>\n",
       "      <td>260</td>\n",
       "      <td>250.0</td>\n",
       "      <td>14.1</td>\n",
       "      <td>15.0</td>\n",
       "      <td>1.0</td>\n",
       "      <td>1.0</td>\n",
       "      <td>NaN</td>\n",
       "      <td>NaN</td>\n",
       "      <td>1.0</td>\n",
       "    </tr>\n",
       "    <tr>\n",
       "      <th>04-01-2021</th>\n",
       "      <td>USW00023230</td>\n",
       "      <td>OAKLAND INTERNATIONAL AIRPORT, CA US</td>\n",
       "      <td>10.07</td>\n",
       "      <td>NaN</td>\n",
       "      <td>0.36</td>\n",
       "      <td>NaN</td>\n",
       "      <td>62.0</td>\n",
       "      <td>46.0</td>\n",
       "      <td>240</td>\n",
       "      <td>130.0</td>\n",
       "      <td>21.9</td>\n",
       "      <td>29.1</td>\n",
       "      <td>1.0</td>\n",
       "      <td>NaN</td>\n",
       "      <td>NaN</td>\n",
       "      <td>NaN</td>\n",
       "      <td>1.0</td>\n",
       "    </tr>\n",
       "    <tr>\n",
       "      <th>05-01-2021</th>\n",
       "      <td>USW00023230</td>\n",
       "      <td>OAKLAND INTERNATIONAL AIRPORT, CA US</td>\n",
       "      <td>4.70</td>\n",
       "      <td>NaN</td>\n",
       "      <td>0.00</td>\n",
       "      <td>NaN</td>\n",
       "      <td>59.0</td>\n",
       "      <td>42.0</td>\n",
       "      <td>300</td>\n",
       "      <td>260.0</td>\n",
       "      <td>13.0</td>\n",
       "      <td>15.0</td>\n",
       "      <td>1.0</td>\n",
       "      <td>NaN</td>\n",
       "      <td>NaN</td>\n",
       "      <td>NaN</td>\n",
       "      <td>NaN</td>\n",
       "    </tr>\n",
       "    <tr>\n",
       "      <th>...</th>\n",
       "      <td>...</td>\n",
       "      <td>...</td>\n",
       "      <td>...</td>\n",
       "      <td>...</td>\n",
       "      <td>...</td>\n",
       "      <td>...</td>\n",
       "      <td>...</td>\n",
       "      <td>...</td>\n",
       "      <td>...</td>\n",
       "      <td>...</td>\n",
       "      <td>...</td>\n",
       "      <td>...</td>\n",
       "      <td>...</td>\n",
       "      <td>...</td>\n",
       "      <td>...</td>\n",
       "      <td>...</td>\n",
       "      <td>...</td>\n",
       "    </tr>\n",
       "    <tr>\n",
       "      <th>16-04-2023</th>\n",
       "      <td>USW00023230</td>\n",
       "      <td>OAKLAND INTERNATIONAL AIRPORT, CA US</td>\n",
       "      <td>15.66</td>\n",
       "      <td>NaN</td>\n",
       "      <td>0.00</td>\n",
       "      <td>NaN</td>\n",
       "      <td>60.0</td>\n",
       "      <td>48.0</td>\n",
       "      <td>300</td>\n",
       "      <td>280.0</td>\n",
       "      <td>31.1</td>\n",
       "      <td>36.0</td>\n",
       "      <td>NaN</td>\n",
       "      <td>NaN</td>\n",
       "      <td>NaN</td>\n",
       "      <td>NaN</td>\n",
       "      <td>NaN</td>\n",
       "    </tr>\n",
       "    <tr>\n",
       "      <th>17-04-2023</th>\n",
       "      <td>USW00023230</td>\n",
       "      <td>OAKLAND INTERNATIONAL AIRPORT, CA US</td>\n",
       "      <td>15.43</td>\n",
       "      <td>NaN</td>\n",
       "      <td>0.00</td>\n",
       "      <td>NaN</td>\n",
       "      <td>59.0</td>\n",
       "      <td>50.0</td>\n",
       "      <td>290</td>\n",
       "      <td>270.0</td>\n",
       "      <td>25.1</td>\n",
       "      <td>35.1</td>\n",
       "      <td>NaN</td>\n",
       "      <td>NaN</td>\n",
       "      <td>NaN</td>\n",
       "      <td>NaN</td>\n",
       "      <td>NaN</td>\n",
       "    </tr>\n",
       "    <tr>\n",
       "      <th>18-04-2023</th>\n",
       "      <td>USW00023230</td>\n",
       "      <td>OAKLAND INTERNATIONAL AIRPORT, CA US</td>\n",
       "      <td>11.41</td>\n",
       "      <td>NaN</td>\n",
       "      <td>0.00</td>\n",
       "      <td>NaN</td>\n",
       "      <td>59.0</td>\n",
       "      <td>46.0</td>\n",
       "      <td>290</td>\n",
       "      <td>310.0</td>\n",
       "      <td>25.9</td>\n",
       "      <td>40.9</td>\n",
       "      <td>NaN</td>\n",
       "      <td>NaN</td>\n",
       "      <td>NaN</td>\n",
       "      <td>NaN</td>\n",
       "      <td>NaN</td>\n",
       "    </tr>\n",
       "    <tr>\n",
       "      <th>19-04-2023</th>\n",
       "      <td>USW00023230</td>\n",
       "      <td>OAKLAND INTERNATIONAL AIRPORT, CA US</td>\n",
       "      <td>10.07</td>\n",
       "      <td>NaN</td>\n",
       "      <td>0.00</td>\n",
       "      <td>NaN</td>\n",
       "      <td>62.0</td>\n",
       "      <td>43.0</td>\n",
       "      <td>290</td>\n",
       "      <td>280.0</td>\n",
       "      <td>25.9</td>\n",
       "      <td>38.0</td>\n",
       "      <td>NaN</td>\n",
       "      <td>NaN</td>\n",
       "      <td>NaN</td>\n",
       "      <td>NaN</td>\n",
       "      <td>NaN</td>\n",
       "    </tr>\n",
       "    <tr>\n",
       "      <th>20-04-2023</th>\n",
       "      <td>USW00023230</td>\n",
       "      <td>OAKLAND INTERNATIONAL AIRPORT, CA US</td>\n",
       "      <td>6.93</td>\n",
       "      <td>NaN</td>\n",
       "      <td>0.00</td>\n",
       "      <td>NaN</td>\n",
       "      <td>65.0</td>\n",
       "      <td>42.0</td>\n",
       "      <td>270</td>\n",
       "      <td>260.0</td>\n",
       "      <td>18.1</td>\n",
       "      <td>25.1</td>\n",
       "      <td>NaN</td>\n",
       "      <td>NaN</td>\n",
       "      <td>NaN</td>\n",
       "      <td>NaN</td>\n",
       "      <td>NaN</td>\n",
       "    </tr>\n",
       "  </tbody>\n",
       "</table>\n",
       "<p>840 rows × 17 columns</p>\n",
       "</div>"
      ],
      "text/plain": [
       "                STATION                                  NAME   AWND  PGTM  \\\n",
       "DATE                                                                         \n",
       "01-01-2021  USW00023230  OAKLAND INTERNATIONAL AIRPORT, CA US   4.47   NaN   \n",
       "02-01-2021  USW00023230  OAKLAND INTERNATIONAL AIRPORT, CA US   2.24   NaN   \n",
       "03-01-2021  USW00023230  OAKLAND INTERNATIONAL AIRPORT, CA US   2.91   NaN   \n",
       "04-01-2021  USW00023230  OAKLAND INTERNATIONAL AIRPORT, CA US  10.07   NaN   \n",
       "05-01-2021  USW00023230  OAKLAND INTERNATIONAL AIRPORT, CA US   4.70   NaN   \n",
       "...                 ...                                   ...    ...   ...   \n",
       "16-04-2023  USW00023230  OAKLAND INTERNATIONAL AIRPORT, CA US  15.66   NaN   \n",
       "17-04-2023  USW00023230  OAKLAND INTERNATIONAL AIRPORT, CA US  15.43   NaN   \n",
       "18-04-2023  USW00023230  OAKLAND INTERNATIONAL AIRPORT, CA US  11.41   NaN   \n",
       "19-04-2023  USW00023230  OAKLAND INTERNATIONAL AIRPORT, CA US  10.07   NaN   \n",
       "20-04-2023  USW00023230  OAKLAND INTERNATIONAL AIRPORT, CA US   6.93   NaN   \n",
       "\n",
       "            PRCP  TAVG  TMAX  TMIN  WDF2   WDF5  WSF2  WSF5  WT01  WT02  WT03  \\\n",
       "DATE                                                                            \n",
       "01-01-2021  0.00   NaN  60.0  40.0   290  290.0  15.0  18.1   NaN   NaN   NaN   \n",
       "02-01-2021  0.14   NaN  57.0  51.0   230  230.0  10.1  13.0   1.0   NaN   NaN   \n",
       "03-01-2021  0.00   NaN  56.0  49.0   260  250.0  14.1  15.0   1.0   1.0   NaN   \n",
       "04-01-2021  0.36   NaN  62.0  46.0   240  130.0  21.9  29.1   1.0   NaN   NaN   \n",
       "05-01-2021  0.00   NaN  59.0  42.0   300  260.0  13.0  15.0   1.0   NaN   NaN   \n",
       "...          ...   ...   ...   ...   ...    ...   ...   ...   ...   ...   ...   \n",
       "16-04-2023  0.00   NaN  60.0  48.0   300  280.0  31.1  36.0   NaN   NaN   NaN   \n",
       "17-04-2023  0.00   NaN  59.0  50.0   290  270.0  25.1  35.1   NaN   NaN   NaN   \n",
       "18-04-2023  0.00   NaN  59.0  46.0   290  310.0  25.9  40.9   NaN   NaN   NaN   \n",
       "19-04-2023  0.00   NaN  62.0  43.0   290  280.0  25.9  38.0   NaN   NaN   NaN   \n",
       "20-04-2023  0.00   NaN  65.0  42.0   270  260.0  18.1  25.1   NaN   NaN   NaN   \n",
       "\n",
       "            WT05  WT08  \n",
       "DATE                    \n",
       "01-01-2021   NaN   1.0  \n",
       "02-01-2021   NaN   1.0  \n",
       "03-01-2021   NaN   1.0  \n",
       "04-01-2021   NaN   1.0  \n",
       "05-01-2021   NaN   NaN  \n",
       "...          ...   ...  \n",
       "16-04-2023   NaN   NaN  \n",
       "17-04-2023   NaN   NaN  \n",
       "18-04-2023   NaN   NaN  \n",
       "19-04-2023   NaN   NaN  \n",
       "20-04-2023   NaN   NaN  \n",
       "\n",
       "[840 rows x 17 columns]"
      ]
     },
     "execution_count": 7,
     "metadata": {},
     "output_type": "execute_result"
    }
   ],
   "source": [
    "weather"
   ]
  },
  {
   "cell_type": "code",
   "execution_count": 8,
   "id": "c5a328ee",
   "metadata": {},
   "outputs": [
    {
     "data": {
      "text/plain": [
       "STATION    0.000000\n",
       "NAME       0.000000\n",
       "AWND       0.000000\n",
       "PGTM       0.996429\n",
       "PRCP       0.001190\n",
       "TAVG       1.000000\n",
       "TMAX       0.003571\n",
       "TMIN       0.004762\n",
       "WDF2       0.000000\n",
       "WDF5       0.003571\n",
       "WSF2       0.000000\n",
       "WSF5       0.003571\n",
       "WT01       0.666667\n",
       "WT02       0.977381\n",
       "WT03       0.985714\n",
       "WT05       0.998810\n",
       "WT08       0.888095\n",
       "dtype: float64"
      ]
     },
     "execution_count": 8,
     "metadata": {},
     "output_type": "execute_result"
    }
   ],
   "source": [
    "weather.apply(pd.isnull).sum()/weather.shape[0]\n"
   ]
  },
  {
   "cell_type": "code",
   "execution_count": 11,
   "id": "b5b9510c",
   "metadata": {},
   "outputs": [],
   "source": [
    "core_weather = weather[[\"PRCP\",  \"TMAX\", \"TMIN\"]].copy()\n",
    "core_weather.columns = [\"precip\",  \"temp_max\", \"temp_min\"]"
   ]
  },
  {
   "cell_type": "code",
   "execution_count": 12,
   "id": "daa79639",
   "metadata": {},
   "outputs": [
    {
     "data": {
      "text/plain": [
       "precip      1\n",
       "temp_max    3\n",
       "temp_min    4\n",
       "dtype: int64"
      ]
     },
     "execution_count": 12,
     "metadata": {},
     "output_type": "execute_result"
    }
   ],
   "source": [
    "core_weather.apply(pd.isnull).sum()\n"
   ]
  },
  {
   "cell_type": "code",
   "execution_count": 14,
   "id": "6f178742",
   "metadata": {},
   "outputs": [
    {
     "data": {
      "text/html": [
       "<div>\n",
       "<style scoped>\n",
       "    .dataframe tbody tr th:only-of-type {\n",
       "        vertical-align: middle;\n",
       "    }\n",
       "\n",
       "    .dataframe tbody tr th {\n",
       "        vertical-align: top;\n",
       "    }\n",
       "\n",
       "    .dataframe thead th {\n",
       "        text-align: right;\n",
       "    }\n",
       "</style>\n",
       "<table border=\"1\" class=\"dataframe\">\n",
       "  <thead>\n",
       "    <tr style=\"text-align: right;\">\n",
       "      <th></th>\n",
       "      <th>precip</th>\n",
       "      <th>temp_max</th>\n",
       "      <th>temp_min</th>\n",
       "    </tr>\n",
       "    <tr>\n",
       "      <th>DATE</th>\n",
       "      <th></th>\n",
       "      <th></th>\n",
       "      <th></th>\n",
       "    </tr>\n",
       "  </thead>\n",
       "  <tbody>\n",
       "    <tr>\n",
       "      <th>29-03-2023</th>\n",
       "      <td>NaN</td>\n",
       "      <td>52.0</td>\n",
       "      <td>43.0</td>\n",
       "    </tr>\n",
       "  </tbody>\n",
       "</table>\n",
       "</div>"
      ],
      "text/plain": [
       "            precip  temp_max  temp_min\n",
       "DATE                                  \n",
       "29-03-2023     NaN      52.0      43.0"
      ]
     },
     "execution_count": 14,
     "metadata": {},
     "output_type": "execute_result"
    }
   ],
   "source": [
    "core_weather[pd.isnull(core_weather[\"precip\"])]\n",
    "\n"
   ]
  },
  {
   "cell_type": "code",
   "execution_count": 17,
   "id": "07b796b7",
   "metadata": {},
   "outputs": [],
   "source": [
    "core_weather[\"precip\"] = core_weather[\"precip\"].fillna(0)\n"
   ]
  },
  {
   "cell_type": "code",
   "execution_count": 18,
   "id": "70fc5677",
   "metadata": {},
   "outputs": [
    {
     "data": {
      "text/plain": [
       "precip      0\n",
       "temp_max    3\n",
       "temp_min    4\n",
       "dtype: int64"
      ]
     },
     "execution_count": 18,
     "metadata": {},
     "output_type": "execute_result"
    }
   ],
   "source": [
    "core_weather.apply(pd.isnull).sum()\n"
   ]
  },
  {
   "cell_type": "code",
   "execution_count": 19,
   "id": "af0b4e00",
   "metadata": {},
   "outputs": [
    {
     "data": {
      "text/html": [
       "<div>\n",
       "<style scoped>\n",
       "    .dataframe tbody tr th:only-of-type {\n",
       "        vertical-align: middle;\n",
       "    }\n",
       "\n",
       "    .dataframe tbody tr th {\n",
       "        vertical-align: top;\n",
       "    }\n",
       "\n",
       "    .dataframe thead th {\n",
       "        text-align: right;\n",
       "    }\n",
       "</style>\n",
       "<table border=\"1\" class=\"dataframe\">\n",
       "  <thead>\n",
       "    <tr style=\"text-align: right;\">\n",
       "      <th></th>\n",
       "      <th>precip</th>\n",
       "      <th>temp_max</th>\n",
       "      <th>temp_min</th>\n",
       "    </tr>\n",
       "    <tr>\n",
       "      <th>DATE</th>\n",
       "      <th></th>\n",
       "      <th></th>\n",
       "      <th></th>\n",
       "    </tr>\n",
       "  </thead>\n",
       "  <tbody>\n",
       "    <tr>\n",
       "      <th>08-10-2022</th>\n",
       "      <td>0.0</td>\n",
       "      <td>NaN</td>\n",
       "      <td>NaN</td>\n",
       "    </tr>\n",
       "    <tr>\n",
       "      <th>09-10-2022</th>\n",
       "      <td>0.0</td>\n",
       "      <td>NaN</td>\n",
       "      <td>NaN</td>\n",
       "    </tr>\n",
       "    <tr>\n",
       "      <th>10-10-2022</th>\n",
       "      <td>0.0</td>\n",
       "      <td>69.0</td>\n",
       "      <td>NaN</td>\n",
       "    </tr>\n",
       "    <tr>\n",
       "      <th>11-10-2022</th>\n",
       "      <td>0.0</td>\n",
       "      <td>66.0</td>\n",
       "      <td>NaN</td>\n",
       "    </tr>\n",
       "  </tbody>\n",
       "</table>\n",
       "</div>"
      ],
      "text/plain": [
       "            precip  temp_max  temp_min\n",
       "DATE                                  \n",
       "08-10-2022     0.0       NaN       NaN\n",
       "09-10-2022     0.0       NaN       NaN\n",
       "10-10-2022     0.0      69.0       NaN\n",
       "11-10-2022     0.0      66.0       NaN"
      ]
     },
     "execution_count": 19,
     "metadata": {},
     "output_type": "execute_result"
    }
   ],
   "source": [
    "core_weather[pd.isnull(core_weather[\"temp_min\"])]\n"
   ]
  },
  {
   "cell_type": "code",
   "execution_count": 20,
   "id": "a3c5a6d0",
   "metadata": {},
   "outputs": [],
   "source": [
    "core_weather = core_weather.fillna(method=\"ffill\")\n"
   ]
  },
  {
   "cell_type": "code",
   "execution_count": 21,
   "id": "48d71b9b",
   "metadata": {},
   "outputs": [
    {
     "data": {
      "text/plain": [
       "precip      0\n",
       "temp_max    0\n",
       "temp_min    0\n",
       "dtype: int64"
      ]
     },
     "execution_count": 21,
     "metadata": {},
     "output_type": "execute_result"
    }
   ],
   "source": [
    "core_weather.apply(pd.isnull).sum()\n"
   ]
  },
  {
   "cell_type": "code",
   "execution_count": 22,
   "id": "5cfac354",
   "metadata": {},
   "outputs": [
    {
     "data": {
      "text/plain": [
       "precip      0\n",
       "temp_max    0\n",
       "temp_min    0\n",
       "dtype: int64"
      ]
     },
     "execution_count": 22,
     "metadata": {},
     "output_type": "execute_result"
    }
   ],
   "source": [
    "# Check for missing value defined in data documentation\n",
    "core_weather.apply(lambda x: (x == 9999).sum())"
   ]
  },
  {
   "cell_type": "code",
   "execution_count": 23,
   "id": "e2d6ba61",
   "metadata": {},
   "outputs": [
    {
     "data": {
      "text/plain": [
       "precip      float64\n",
       "temp_max    float64\n",
       "temp_min    float64\n",
       "dtype: object"
      ]
     },
     "execution_count": 23,
     "metadata": {},
     "output_type": "execute_result"
    }
   ],
   "source": [
    "core_weather.dtypes\n"
   ]
  },
  {
   "cell_type": "code",
   "execution_count": 24,
   "id": "e48c7726",
   "metadata": {},
   "outputs": [
    {
     "data": {
      "text/plain": [
       "Index(['01-01-2021', '02-01-2021', '03-01-2021', '04-01-2021', '05-01-2021',\n",
       "       '06-01-2021', '07-01-2021', '08-01-2021', '09-01-2021', '10-01-2021',\n",
       "       ...\n",
       "       '11-04-2023', '12-04-2023', '13-04-2023', '14-04-2023', '15-04-2023',\n",
       "       '16-04-2023', '17-04-2023', '18-04-2023', '19-04-2023', '20-04-2023'],\n",
       "      dtype='object', name='DATE', length=840)"
      ]
     },
     "execution_count": 24,
     "metadata": {},
     "output_type": "execute_result"
    }
   ],
   "source": [
    "core_weather.index\n"
   ]
  },
  {
   "cell_type": "code",
   "execution_count": 26,
   "id": "3637c165",
   "metadata": {},
   "outputs": [
    {
     "data": {
      "text/plain": [
       "DatetimeIndex(['2021-01-01', '2021-02-01', '2021-03-01', '2021-04-01',\n",
       "               '2021-05-01', '2021-06-01', '2021-07-01', '2021-08-01',\n",
       "               '2021-09-01', '2021-10-01',\n",
       "               ...\n",
       "               '2023-11-04', '2023-12-04', '2023-04-13', '2023-04-14',\n",
       "               '2023-04-15', '2023-04-16', '2023-04-17', '2023-04-18',\n",
       "               '2023-04-19', '2023-04-20'],\n",
       "              dtype='datetime64[ns]', name='DATE', length=840, freq=None)"
      ]
     },
     "execution_count": 26,
     "metadata": {},
     "output_type": "execute_result"
    }
   ],
   "source": [
    "core_weather.index\n"
   ]
  },
  {
   "cell_type": "code",
   "execution_count": 27,
   "id": "814ce531",
   "metadata": {},
   "outputs": [
    {
     "data": {
      "text/plain": [
       "Int64Index([2021, 2021, 2021, 2021, 2021, 2021, 2021, 2021, 2021, 2021,\n",
       "            ...\n",
       "            2023, 2023, 2023, 2023, 2023, 2023, 2023, 2023, 2023, 2023],\n",
       "           dtype='int64', name='DATE', length=840)"
      ]
     },
     "execution_count": 27,
     "metadata": {},
     "output_type": "execute_result"
    }
   ],
   "source": [
    "core_weather.index.year\n"
   ]
  },
  {
   "cell_type": "code",
   "execution_count": 28,
   "id": "c8af7a32",
   "metadata": {},
   "outputs": [
    {
     "data": {
      "text/plain": [
       "<AxesSubplot:xlabel='DATE'>"
      ]
     },
     "execution_count": 28,
     "metadata": {},
     "output_type": "execute_result"
    },
    {
     "data": {
      "image/png": "[encoded data removed]",
      "text/plain": [
       "<Figure size 432x288 with 1 Axes>"
      ]
     },
     "metadata": {
      "needs_background": "light"
     },
     "output_type": "display_data"
    }
   ],
   "source": [
    "core_weather[[\"temp_max\", \"temp_min\"]].plot()\n"
   ]
  },
  {
   "cell_type": "code",
   "execution_count": 29,
   "id": "31314125",
   "metadata": {},
   "outputs": [
    {
     "data": {
      "text/plain": [
       "2021    365\n",
       "2022    365\n",
       "2023    110\n",
       "Name: DATE, dtype: int64"
      ]
     },
     "execution_count": 29,
     "metadata": {},
     "output_type": "execute_result"
    }
   ],
   "source": [
    "core_weather.index.year.value_counts().sort_index()\n"
   ]
  },
  {
   "cell_type": "code",
   "execution_count": 30,
   "id": "bc3a1a18",
   "metadata": {},
   "outputs": [
    {
     "data": {
      "text/plain": [
       "<AxesSubplot:xlabel='DATE'>"
      ]
     },
     "execution_count": 30,
     "metadata": {},
     "output_type": "execute_result"
    },
    {
     "data": {
      "image/png": "[encoded data removed]",
      "text/plain": [
       "<Figure size 432x288 with 1 Axes>"
      ]
     },
     "metadata": {
      "needs_background": "light"
     },
     "output_type": "display_data"
    }
   ],
   "source": [
    "core_weather[\"precip\"].plot()\n"
   ]
  },
  {
   "cell_type": "code",
   "execution_count": 31,
   "id": "f3207601",
   "metadata": {},
   "outputs": [
    {
     "data": {
      "text/plain": [
       "<AxesSubplot:xlabel='DATE'>"
      ]
     },
     "execution_count": 31,
     "metadata": {},
     "output_type": "execute_result"
    },
    {
     "data": {
      "image/png": "[encoded data removed]",
      "text/plain": [
       "<Figure size 432x288 with 1 Axes>"
      ]
     },
     "metadata": {
      "needs_background": "light"
     },
     "output_type": "display_data"
    }
   ],
   "source": [
    "core_weather.groupby(core_weather.index.year).apply(lambda x: x[\"precip\"].sum()).plot()\n"
   ]
  },
  {
   "cell_type": "code",
   "execution_count": 32,
   "id": "d1741d12",
   "metadata": {},
   "outputs": [],
   "source": [
    "core_weather[\"target\"] = core_weather.shift(-1)[\"temp_max\"]\n"
   ]
  },
  {
   "cell_type": "code",
   "execution_count": 33,
   "id": "e830eec9",
   "metadata": {},
   "outputs": [
    {
     "data": {
      "text/html": [
       "<div>\n",
       "<style scoped>\n",
       "    .dataframe tbody tr th:only-of-type {\n",
       "        vertical-align: middle;\n",
       "    }\n",
       "\n",
       "    .dataframe tbody tr th {\n",
       "        vertical-align: top;\n",
       "    }\n",
       "\n",
       "    .dataframe thead th {\n",
       "        text-align: right;\n",
       "    }\n",
       "</style>\n",
       "<table border=\"1\" class=\"dataframe\">\n",
       "  <thead>\n",
       "    <tr style=\"text-align: right;\">\n",
       "      <th></th>\n",
       "      <th>precip</th>\n",
       "      <th>temp_max</th>\n",
       "      <th>temp_min</th>\n",
       "      <th>target</th>\n",
       "    </tr>\n",
       "    <tr>\n",
       "      <th>DATE</th>\n",
       "      <th></th>\n",
       "      <th></th>\n",
       "      <th></th>\n",
       "      <th></th>\n",
       "    </tr>\n",
       "  </thead>\n",
       "  <tbody>\n",
       "    <tr>\n",
       "      <th>2021-01-01</th>\n",
       "      <td>0.00</td>\n",
       "      <td>60.0</td>\n",
       "      <td>40.0</td>\n",
       "      <td>57.0</td>\n",
       "    </tr>\n",
       "    <tr>\n",
       "      <th>2021-02-01</th>\n",
       "      <td>0.14</td>\n",
       "      <td>57.0</td>\n",
       "      <td>51.0</td>\n",
       "      <td>56.0</td>\n",
       "    </tr>\n",
       "    <tr>\n",
       "      <th>2021-03-01</th>\n",
       "      <td>0.00</td>\n",
       "      <td>56.0</td>\n",
       "      <td>49.0</td>\n",
       "      <td>62.0</td>\n",
       "    </tr>\n",
       "    <tr>\n",
       "      <th>2021-04-01</th>\n",
       "      <td>0.36</td>\n",
       "      <td>62.0</td>\n",
       "      <td>46.0</td>\n",
       "      <td>59.0</td>\n",
       "    </tr>\n",
       "    <tr>\n",
       "      <th>2021-05-01</th>\n",
       "      <td>0.00</td>\n",
       "      <td>59.0</td>\n",
       "      <td>42.0</td>\n",
       "      <td>59.0</td>\n",
       "    </tr>\n",
       "    <tr>\n",
       "      <th>...</th>\n",
       "      <td>...</td>\n",
       "      <td>...</td>\n",
       "      <td>...</td>\n",
       "      <td>...</td>\n",
       "    </tr>\n",
       "    <tr>\n",
       "      <th>2023-04-16</th>\n",
       "      <td>0.00</td>\n",
       "      <td>60.0</td>\n",
       "      <td>48.0</td>\n",
       "      <td>59.0</td>\n",
       "    </tr>\n",
       "    <tr>\n",
       "      <th>2023-04-17</th>\n",
       "      <td>0.00</td>\n",
       "      <td>59.0</td>\n",
       "      <td>50.0</td>\n",
       "      <td>59.0</td>\n",
       "    </tr>\n",
       "    <tr>\n",
       "      <th>2023-04-18</th>\n",
       "      <td>0.00</td>\n",
       "      <td>59.0</td>\n",
       "      <td>46.0</td>\n",
       "      <td>62.0</td>\n",
       "    </tr>\n",
       "    <tr>\n",
       "      <th>2023-04-19</th>\n",
       "      <td>0.00</td>\n",
       "      <td>62.0</td>\n",
       "      <td>43.0</td>\n",
       "      <td>65.0</td>\n",
       "    </tr>\n",
       "    <tr>\n",
       "      <th>2023-04-20</th>\n",
       "      <td>0.00</td>\n",
       "      <td>65.0</td>\n",
       "      <td>42.0</td>\n",
       "      <td>NaN</td>\n",
       "    </tr>\n",
       "  </tbody>\n",
       "</table>\n",
       "<p>840 rows × 4 columns</p>\n",
       "</div>"
      ],
      "text/plain": [
       "            precip  temp_max  temp_min  target\n",
       "DATE                                          \n",
       "2021-01-01    0.00      60.0      40.0    57.0\n",
       "2021-02-01    0.14      57.0      51.0    56.0\n",
       "2021-03-01    0.00      56.0      49.0    62.0\n",
       "2021-04-01    0.36      62.0      46.0    59.0\n",
       "2021-05-01    0.00      59.0      42.0    59.0\n",
       "...            ...       ...       ...     ...\n",
       "2023-04-16    0.00      60.0      48.0    59.0\n",
       "2023-04-17    0.00      59.0      50.0    59.0\n",
       "2023-04-18    0.00      59.0      46.0    62.0\n",
       "2023-04-19    0.00      62.0      43.0    65.0\n",
       "2023-04-20    0.00      65.0      42.0     NaN\n",
       "\n",
       "[840 rows x 4 columns]"
      ]
     },
     "execution_count": 33,
     "metadata": {},
     "output_type": "execute_result"
    }
   ],
   "source": [
    "core_weather\n"
   ]
  },
  {
   "cell_type": "code",
   "execution_count": 34,
   "id": "7fc4265d",
   "metadata": {},
   "outputs": [],
   "source": [
    "core_weather = core_weather.iloc[:-1,:].copy()\n"
   ]
  },
  {
   "cell_type": "code",
   "execution_count": 35,
   "id": "6db53a4a",
   "metadata": {},
   "outputs": [
    {
     "data": {
      "text/html": [
       "<div>\n",
       "<style scoped>\n",
       "    .dataframe tbody tr th:only-of-type {\n",
       "        vertical-align: middle;\n",
       "    }\n",
       "\n",
       "    .dataframe tbody tr th {\n",
       "        vertical-align: top;\n",
       "    }\n",
       "\n",
       "    .dataframe thead th {\n",
       "        text-align: right;\n",
       "    }\n",
       "</style>\n",
       "<table border=\"1\" class=\"dataframe\">\n",
       "  <thead>\n",
       "    <tr style=\"text-align: right;\">\n",
       "      <th></th>\n",
       "      <th>precip</th>\n",
       "      <th>temp_max</th>\n",
       "      <th>temp_min</th>\n",
       "      <th>target</th>\n",
       "    </tr>\n",
       "    <tr>\n",
       "      <th>DATE</th>\n",
       "      <th></th>\n",
       "      <th></th>\n",
       "      <th></th>\n",
       "      <th></th>\n",
       "    </tr>\n",
       "  </thead>\n",
       "  <tbody>\n",
       "    <tr>\n",
       "      <th>2021-01-01</th>\n",
       "      <td>0.00</td>\n",
       "      <td>60.0</td>\n",
       "      <td>40.0</td>\n",
       "      <td>57.0</td>\n",
       "    </tr>\n",
       "    <tr>\n",
       "      <th>2021-02-01</th>\n",
       "      <td>0.14</td>\n",
       "      <td>57.0</td>\n",
       "      <td>51.0</td>\n",
       "      <td>56.0</td>\n",
       "    </tr>\n",
       "    <tr>\n",
       "      <th>2021-03-01</th>\n",
       "      <td>0.00</td>\n",
       "      <td>56.0</td>\n",
       "      <td>49.0</td>\n",
       "      <td>62.0</td>\n",
       "    </tr>\n",
       "    <tr>\n",
       "      <th>2021-04-01</th>\n",
       "      <td>0.36</td>\n",
       "      <td>62.0</td>\n",
       "      <td>46.0</td>\n",
       "      <td>59.0</td>\n",
       "    </tr>\n",
       "    <tr>\n",
       "      <th>2021-05-01</th>\n",
       "      <td>0.00</td>\n",
       "      <td>59.0</td>\n",
       "      <td>42.0</td>\n",
       "      <td>59.0</td>\n",
       "    </tr>\n",
       "    <tr>\n",
       "      <th>...</th>\n",
       "      <td>...</td>\n",
       "      <td>...</td>\n",
       "      <td>...</td>\n",
       "      <td>...</td>\n",
       "    </tr>\n",
       "    <tr>\n",
       "      <th>2023-04-15</th>\n",
       "      <td>0.00</td>\n",
       "      <td>61.0</td>\n",
       "      <td>49.0</td>\n",
       "      <td>60.0</td>\n",
       "    </tr>\n",
       "    <tr>\n",
       "      <th>2023-04-16</th>\n",
       "      <td>0.00</td>\n",
       "      <td>60.0</td>\n",
       "      <td>48.0</td>\n",
       "      <td>59.0</td>\n",
       "    </tr>\n",
       "    <tr>\n",
       "      <th>2023-04-17</th>\n",
       "      <td>0.00</td>\n",
       "      <td>59.0</td>\n",
       "      <td>50.0</td>\n",
       "      <td>59.0</td>\n",
       "    </tr>\n",
       "    <tr>\n",
       "      <th>2023-04-18</th>\n",
       "      <td>0.00</td>\n",
       "      <td>59.0</td>\n",
       "      <td>46.0</td>\n",
       "      <td>62.0</td>\n",
       "    </tr>\n",
       "    <tr>\n",
       "      <th>2023-04-19</th>\n",
       "      <td>0.00</td>\n",
       "      <td>62.0</td>\n",
       "      <td>43.0</td>\n",
       "      <td>65.0</td>\n",
       "    </tr>\n",
       "  </tbody>\n",
       "</table>\n",
       "<p>839 rows × 4 columns</p>\n",
       "</div>"
      ],
      "text/plain": [
       "            precip  temp_max  temp_min  target\n",
       "DATE                                          \n",
       "2021-01-01    0.00      60.0      40.0    57.0\n",
       "2021-02-01    0.14      57.0      51.0    56.0\n",
       "2021-03-01    0.00      56.0      49.0    62.0\n",
       "2021-04-01    0.36      62.0      46.0    59.0\n",
       "2021-05-01    0.00      59.0      42.0    59.0\n",
       "...            ...       ...       ...     ...\n",
       "2023-04-15    0.00      61.0      49.0    60.0\n",
       "2023-04-16    0.00      60.0      48.0    59.0\n",
       "2023-04-17    0.00      59.0      50.0    59.0\n",
       "2023-04-18    0.00      59.0      46.0    62.0\n",
       "2023-04-19    0.00      62.0      43.0    65.0\n",
       "\n",
       "[839 rows x 4 columns]"
      ]
     },
     "execution_count": 35,
     "metadata": {},
     "output_type": "execute_result"
    }
   ],
   "source": [
    "core_weather\n"
   ]
  },
  {
   "cell_type": "code",
   "execution_count": 36,
   "id": "ea24fbe9",
   "metadata": {},
   "outputs": [],
   "source": [
    "from sklearn.linear_model import Ridge\n",
    "\n",
    "reg = Ridge(alpha=.1)\n"
   ]
  },
  {
   "cell_type": "code",
   "execution_count": 37,
   "id": "d3582c52",
   "metadata": {},
   "outputs": [],
   "source": [
    "predictors = [\"precip\", \"temp_max\", \"temp_min\"]\n"
   ]
  },
  {
   "cell_type": "code",
   "execution_count": 44,
   "id": "82d980e9",
   "metadata": {},
   "outputs": [],
   "source": [
    "train = core_weather.loc[:\"2021-12-31\"]\n",
    "test = core_weather.loc[\"2022-01-01\":]"
   ]
  },
  {
   "cell_type": "code",
   "execution_count": 45,
   "id": "61d234ca",
   "metadata": {},
   "outputs": [
    {
     "data": {
      "text/html": [
       "<div>\n",
       "<style scoped>\n",
       "    .dataframe tbody tr th:only-of-type {\n",
       "        vertical-align: middle;\n",
       "    }\n",
       "\n",
       "    .dataframe tbody tr th {\n",
       "        vertical-align: top;\n",
       "    }\n",
       "\n",
       "    .dataframe thead th {\n",
       "        text-align: right;\n",
       "    }\n",
       "</style>\n",
       "<table border=\"1\" class=\"dataframe\">\n",
       "  <thead>\n",
       "    <tr style=\"text-align: right;\">\n",
       "      <th></th>\n",
       "      <th>precip</th>\n",
       "      <th>temp_max</th>\n",
       "      <th>temp_min</th>\n",
       "      <th>target</th>\n",
       "    </tr>\n",
       "    <tr>\n",
       "      <th>DATE</th>\n",
       "      <th></th>\n",
       "      <th></th>\n",
       "      <th></th>\n",
       "      <th></th>\n",
       "    </tr>\n",
       "  </thead>\n",
       "  <tbody>\n",
       "    <tr>\n",
       "      <th>2021-01-01</th>\n",
       "      <td>0.00</td>\n",
       "      <td>60.0</td>\n",
       "      <td>40.0</td>\n",
       "      <td>57.0</td>\n",
       "    </tr>\n",
       "    <tr>\n",
       "      <th>2021-02-01</th>\n",
       "      <td>0.14</td>\n",
       "      <td>57.0</td>\n",
       "      <td>51.0</td>\n",
       "      <td>56.0</td>\n",
       "    </tr>\n",
       "    <tr>\n",
       "      <th>2021-03-01</th>\n",
       "      <td>0.00</td>\n",
       "      <td>56.0</td>\n",
       "      <td>49.0</td>\n",
       "      <td>62.0</td>\n",
       "    </tr>\n",
       "    <tr>\n",
       "      <th>2021-04-01</th>\n",
       "      <td>0.36</td>\n",
       "      <td>62.0</td>\n",
       "      <td>46.0</td>\n",
       "      <td>59.0</td>\n",
       "    </tr>\n",
       "    <tr>\n",
       "      <th>2021-05-01</th>\n",
       "      <td>0.00</td>\n",
       "      <td>59.0</td>\n",
       "      <td>42.0</td>\n",
       "      <td>59.0</td>\n",
       "    </tr>\n",
       "    <tr>\n",
       "      <th>...</th>\n",
       "      <td>...</td>\n",
       "      <td>...</td>\n",
       "      <td>...</td>\n",
       "      <td>...</td>\n",
       "    </tr>\n",
       "    <tr>\n",
       "      <th>2021-12-27</th>\n",
       "      <td>0.09</td>\n",
       "      <td>51.0</td>\n",
       "      <td>44.0</td>\n",
       "      <td>48.0</td>\n",
       "    </tr>\n",
       "    <tr>\n",
       "      <th>2021-12-28</th>\n",
       "      <td>0.01</td>\n",
       "      <td>48.0</td>\n",
       "      <td>41.0</td>\n",
       "      <td>51.0</td>\n",
       "    </tr>\n",
       "    <tr>\n",
       "      <th>2021-12-29</th>\n",
       "      <td>0.51</td>\n",
       "      <td>51.0</td>\n",
       "      <td>43.0</td>\n",
       "      <td>52.0</td>\n",
       "    </tr>\n",
       "    <tr>\n",
       "      <th>2021-12-30</th>\n",
       "      <td>0.00</td>\n",
       "      <td>52.0</td>\n",
       "      <td>40.0</td>\n",
       "      <td>53.0</td>\n",
       "    </tr>\n",
       "    <tr>\n",
       "      <th>2021-12-31</th>\n",
       "      <td>0.00</td>\n",
       "      <td>53.0</td>\n",
       "      <td>36.0</td>\n",
       "      <td>51.0</td>\n",
       "    </tr>\n",
       "  </tbody>\n",
       "</table>\n",
       "<p>365 rows × 4 columns</p>\n",
       "</div>"
      ],
      "text/plain": [
       "            precip  temp_max  temp_min  target\n",
       "DATE                                          \n",
       "2021-01-01    0.00      60.0      40.0    57.0\n",
       "2021-02-01    0.14      57.0      51.0    56.0\n",
       "2021-03-01    0.00      56.0      49.0    62.0\n",
       "2021-04-01    0.36      62.0      46.0    59.0\n",
       "2021-05-01    0.00      59.0      42.0    59.0\n",
       "...            ...       ...       ...     ...\n",
       "2021-12-27    0.09      51.0      44.0    48.0\n",
       "2021-12-28    0.01      48.0      41.0    51.0\n",
       "2021-12-29    0.51      51.0      43.0    52.0\n",
       "2021-12-30    0.00      52.0      40.0    53.0\n",
       "2021-12-31    0.00      53.0      36.0    51.0\n",
       "\n",
       "[365 rows x 4 columns]"
      ]
     },
     "execution_count": 45,
     "metadata": {},
     "output_type": "execute_result"
    }
   ],
   "source": [
    "train\n"
   ]
  },
  {
   "cell_type": "code",
   "execution_count": 46,
   "id": "2e981dc7",
   "metadata": {},
   "outputs": [
    {
     "data": {
      "text/html": [
       "<div>\n",
       "<style scoped>\n",
       "    .dataframe tbody tr th:only-of-type {\n",
       "        vertical-align: middle;\n",
       "    }\n",
       "\n",
       "    .dataframe tbody tr th {\n",
       "        vertical-align: top;\n",
       "    }\n",
       "\n",
       "    .dataframe thead th {\n",
       "        text-align: right;\n",
       "    }\n",
       "</style>\n",
       "<table border=\"1\" class=\"dataframe\">\n",
       "  <thead>\n",
       "    <tr style=\"text-align: right;\">\n",
       "      <th></th>\n",
       "      <th>precip</th>\n",
       "      <th>temp_max</th>\n",
       "      <th>temp_min</th>\n",
       "      <th>target</th>\n",
       "    </tr>\n",
       "    <tr>\n",
       "      <th>DATE</th>\n",
       "      <th></th>\n",
       "      <th></th>\n",
       "      <th></th>\n",
       "      <th></th>\n",
       "    </tr>\n",
       "  </thead>\n",
       "  <tbody>\n",
       "    <tr>\n",
       "      <th>2022-01-01</th>\n",
       "      <td>0.00</td>\n",
       "      <td>51.0</td>\n",
       "      <td>35.0</td>\n",
       "      <td>55.0</td>\n",
       "    </tr>\n",
       "    <tr>\n",
       "      <th>2022-02-01</th>\n",
       "      <td>0.00</td>\n",
       "      <td>55.0</td>\n",
       "      <td>32.0</td>\n",
       "      <td>54.0</td>\n",
       "    </tr>\n",
       "    <tr>\n",
       "      <th>2022-03-01</th>\n",
       "      <td>0.13</td>\n",
       "      <td>54.0</td>\n",
       "      <td>42.0</td>\n",
       "      <td>57.0</td>\n",
       "    </tr>\n",
       "    <tr>\n",
       "      <th>2022-04-01</th>\n",
       "      <td>0.10</td>\n",
       "      <td>57.0</td>\n",
       "      <td>51.0</td>\n",
       "      <td>57.0</td>\n",
       "    </tr>\n",
       "    <tr>\n",
       "      <th>2022-05-01</th>\n",
       "      <td>0.00</td>\n",
       "      <td>57.0</td>\n",
       "      <td>50.0</td>\n",
       "      <td>55.0</td>\n",
       "    </tr>\n",
       "    <tr>\n",
       "      <th>...</th>\n",
       "      <td>...</td>\n",
       "      <td>...</td>\n",
       "      <td>...</td>\n",
       "      <td>...</td>\n",
       "    </tr>\n",
       "    <tr>\n",
       "      <th>2023-04-15</th>\n",
       "      <td>0.00</td>\n",
       "      <td>61.0</td>\n",
       "      <td>49.0</td>\n",
       "      <td>60.0</td>\n",
       "    </tr>\n",
       "    <tr>\n",
       "      <th>2023-04-16</th>\n",
       "      <td>0.00</td>\n",
       "      <td>60.0</td>\n",
       "      <td>48.0</td>\n",
       "      <td>59.0</td>\n",
       "    </tr>\n",
       "    <tr>\n",
       "      <th>2023-04-17</th>\n",
       "      <td>0.00</td>\n",
       "      <td>59.0</td>\n",
       "      <td>50.0</td>\n",
       "      <td>59.0</td>\n",
       "    </tr>\n",
       "    <tr>\n",
       "      <th>2023-04-18</th>\n",
       "      <td>0.00</td>\n",
       "      <td>59.0</td>\n",
       "      <td>46.0</td>\n",
       "      <td>62.0</td>\n",
       "    </tr>\n",
       "    <tr>\n",
       "      <th>2023-04-19</th>\n",
       "      <td>0.00</td>\n",
       "      <td>62.0</td>\n",
       "      <td>43.0</td>\n",
       "      <td>65.0</td>\n",
       "    </tr>\n",
       "  </tbody>\n",
       "</table>\n",
       "<p>474 rows × 4 columns</p>\n",
       "</div>"
      ],
      "text/plain": [
       "            precip  temp_max  temp_min  target\n",
       "DATE                                          \n",
       "2022-01-01    0.00      51.0      35.0    55.0\n",
       "2022-02-01    0.00      55.0      32.0    54.0\n",
       "2022-03-01    0.13      54.0      42.0    57.0\n",
       "2022-04-01    0.10      57.0      51.0    57.0\n",
       "2022-05-01    0.00      57.0      50.0    55.0\n",
       "...            ...       ...       ...     ...\n",
       "2023-04-15    0.00      61.0      49.0    60.0\n",
       "2023-04-16    0.00      60.0      48.0    59.0\n",
       "2023-04-17    0.00      59.0      50.0    59.0\n",
       "2023-04-18    0.00      59.0      46.0    62.0\n",
       "2023-04-19    0.00      62.0      43.0    65.0\n",
       "\n",
       "[474 rows x 4 columns]"
      ]
     },
     "execution_count": 46,
     "metadata": {},
     "output_type": "execute_result"
    }
   ],
   "source": [
    "test\n"
   ]
  },
  {
   "cell_type": "code",
   "execution_count": 47,
   "id": "c05bf809",
   "metadata": {},
   "outputs": [
    {
     "data": {
      "text/plain": [
       "Ridge(alpha=0.1)"
      ]
     },
     "execution_count": 47,
     "metadata": {},
     "output_type": "execute_result"
    }
   ],
   "source": [
    "reg.fit(train[predictors], train[\"target\"])\n"
   ]
  },
  {
   "cell_type": "code",
   "execution_count": 48,
   "id": "60bbfc29",
   "metadata": {},
   "outputs": [],
   "source": [
    "predictions = reg.predict(test[predictors])\n"
   ]
  },
  {
   "cell_type": "code",
   "execution_count": 49,
   "id": "c621f320",
   "metadata": {},
   "outputs": [
    {
     "data": {
      "text/plain": [
       "18.739756047207443"
      ]
     },
     "execution_count": 49,
     "metadata": {},
     "output_type": "execute_result"
    }
   ],
   "source": [
    "from sklearn.metrics import mean_squared_error\n",
    "\n",
    "mean_squared_error(test[\"target\"], predictions)"
   ]
  },
  {
   "cell_type": "code",
   "execution_count": 50,
   "id": "0ccfbd5b",
   "metadata": {},
   "outputs": [],
   "source": [
    "combined = pd.concat([test[\"target\"], pd.Series(predictions, index=test.index)], axis=1)\n",
    "combined.columns = [\"actual\", \"predictions\"]\n"
   ]
  },
  {
   "cell_type": "code",
   "execution_count": 51,
   "id": "e1c99164",
   "metadata": {},
   "outputs": [
    {
     "data": {
      "text/html": [
       "<div>\n",
       "<style scoped>\n",
       "    .dataframe tbody tr th:only-of-type {\n",
       "        vertical-align: middle;\n",
       "    }\n",
       "\n",
       "    .dataframe tbody tr th {\n",
       "        vertical-align: top;\n",
       "    }\n",
       "\n",
       "    .dataframe thead th {\n",
       "        text-align: right;\n",
       "    }\n",
       "</style>\n",
       "<table border=\"1\" class=\"dataframe\">\n",
       "  <thead>\n",
       "    <tr style=\"text-align: right;\">\n",
       "      <th></th>\n",
       "      <th>actual</th>\n",
       "      <th>predictions</th>\n",
       "    </tr>\n",
       "    <tr>\n",
       "      <th>DATE</th>\n",
       "      <th></th>\n",
       "      <th></th>\n",
       "    </tr>\n",
       "  </thead>\n",
       "  <tbody>\n",
       "    <tr>\n",
       "      <th>2022-01-01</th>\n",
       "      <td>55.0</td>\n",
       "      <td>53.197572</td>\n",
       "    </tr>\n",
       "    <tr>\n",
       "      <th>2022-02-01</th>\n",
       "      <td>54.0</td>\n",
       "      <td>55.625874</td>\n",
       "    </tr>\n",
       "    <tr>\n",
       "      <th>2022-03-01</th>\n",
       "      <td>57.0</td>\n",
       "      <td>56.182138</td>\n",
       "    </tr>\n",
       "    <tr>\n",
       "      <th>2022-04-01</th>\n",
       "      <td>57.0</td>\n",
       "      <td>59.774201</td>\n",
       "    </tr>\n",
       "    <tr>\n",
       "      <th>2022-05-01</th>\n",
       "      <td>55.0</td>\n",
       "      <td>59.811074</td>\n",
       "    </tr>\n",
       "    <tr>\n",
       "      <th>...</th>\n",
       "      <td>...</td>\n",
       "      <td>...</td>\n",
       "    </tr>\n",
       "    <tr>\n",
       "      <th>2023-04-15</th>\n",
       "      <td>60.0</td>\n",
       "      <td>62.544099</td>\n",
       "    </tr>\n",
       "    <tr>\n",
       "      <th>2023-04-16</th>\n",
       "      <td>59.0</td>\n",
       "      <td>61.670391</td>\n",
       "    </tr>\n",
       "    <tr>\n",
       "      <th>2023-04-17</th>\n",
       "      <td>59.0</td>\n",
       "      <td>61.253767</td>\n",
       "    </tr>\n",
       "    <tr>\n",
       "      <th>2023-04-18</th>\n",
       "      <td>62.0</td>\n",
       "      <td>60.644321</td>\n",
       "    </tr>\n",
       "    <tr>\n",
       "      <th>2023-04-19</th>\n",
       "      <td>65.0</td>\n",
       "      <td>62.351277</td>\n",
       "    </tr>\n",
       "  </tbody>\n",
       "</table>\n",
       "<p>474 rows × 2 columns</p>\n",
       "</div>"
      ],
      "text/plain": [
       "            actual  predictions\n",
       "DATE                           \n",
       "2022-01-01    55.0    53.197572\n",
       "2022-02-01    54.0    55.625874\n",
       "2022-03-01    57.0    56.182138\n",
       "2022-04-01    57.0    59.774201\n",
       "2022-05-01    55.0    59.811074\n",
       "...            ...          ...\n",
       "2023-04-15    60.0    62.544099\n",
       "2023-04-16    59.0    61.670391\n",
       "2023-04-17    59.0    61.253767\n",
       "2023-04-18    62.0    60.644321\n",
       "2023-04-19    65.0    62.351277\n",
       "\n",
       "[474 rows x 2 columns]"
      ]
     },
     "execution_count": 51,
     "metadata": {},
     "output_type": "execute_result"
    }
   ],
   "source": [
    "combined\n"
   ]
  },
  {
   "cell_type": "code",
   "execution_count": 52,
   "id": "c5c1bf63",
   "metadata": {},
   "outputs": [
    {
     "data": {
      "text/plain": [
       "<AxesSubplot:xlabel='DATE'>"
      ]
     },
     "execution_count": 52,
     "metadata": {},
     "output_type": "execute_result"
    },
    {
     "data": {
      "image/png": "[encoded data removed]",
      "text/plain": [
       "<Figure size 432x288 with 1 Axes>"
      ]
     },
     "metadata": {
      "needs_background": "light"
     },
     "output_type": "display_data"
    }
   ],
   "source": [
    "combined.plot()\n"
   ]
  },
  {
   "cell_type": "code",
   "execution_count": 53,
   "id": "b77f19bb",
   "metadata": {},
   "outputs": [
    {
     "data": {
      "text/plain": [
       "array([-1.89234183,  0.72134664,  0.15236149])"
      ]
     },
     "execution_count": 53,
     "metadata": {},
     "output_type": "execute_result"
    }
   ],
   "source": [
    "reg.coef_\n"
   ]
  },
  {
   "cell_type": "code",
   "execution_count": 54,
   "id": "ad2f295e",
   "metadata": {},
   "outputs": [],
   "source": [
    "core_weather[\"month_max\"] = core_weather[\"temp_max\"].rolling(30).mean()\n",
    "\n",
    "core_weather[\"month_day_max\"] = core_weather[\"month_max\"] / core_weather[\"temp_max\"]\n",
    "\n",
    "core_weather[\"max_min\"] = core_weather[\"temp_max\"] / core_weather[\"temp_min\"]"
   ]
  },
  {
   "cell_type": "code",
   "execution_count": 55,
   "id": "b8e7c6d0",
   "metadata": {},
   "outputs": [],
   "source": [
    "core_weather = core_weather.iloc[30:,:].copy()\n"
   ]
  },
  {
   "cell_type": "code",
   "execution_count": 58,
   "id": "941e3390",
   "metadata": {},
   "outputs": [],
   "source": [
    "def create_predictions(predictors, core_weather, reg):\n",
    "    train = core_weather.loc[:\"2021-12-31\"]\n",
    "    test = core_weather.loc[\"2022-01-01\":]\n",
    "\n",
    "    reg.fit(train[predictors], train[\"target\"])\n",
    "    predictions = reg.predict(test[predictors])\n",
    "\n",
    "    error = mean_squared_error(test[\"target\"], predictions)\n",
    "    \n",
    "    combined = pd.concat([test[\"target\"], pd.Series(predictions, index=test.index)], axis=1)\n",
    "    combined.columns = [\"actual\", \"predictions\"]\n",
    "    return error, combined"
   ]
  },
  {
   "cell_type": "code",
   "execution_count": 59,
   "id": "26a9a0e7",
   "metadata": {},
   "outputs": [
    {
     "data": {
      "text/plain": [
       "18.179753771576113"
      ]
     },
     "execution_count": 59,
     "metadata": {},
     "output_type": "execute_result"
    }
   ],
   "source": [
    "predictors = [\"precip\", \"temp_max\", \"temp_min\", \"month_day_max\", \"max_min\"]\n",
    "\n",
    "error, combined = create_predictions(predictors, core_weather, reg)\n",
    "error"
   ]
  },
  {
   "cell_type": "code",
   "execution_count": 60,
   "id": "1cfdae0d",
   "metadata": {},
   "outputs": [
    {
     "data": {
      "text/plain": [
       "<AxesSubplot:xlabel='DATE'>"
      ]
     },
     "execution_count": 60,
     "metadata": {},
     "output_type": "execute_result"
    },
    {
     "data": {
      "image/png": "[encoded data removed]",
      "text/plain": [
       "<Figure size 432x288 with 1 Axes>"
      ]
     },
     "metadata": {
      "needs_background": "light"
     },
     "output_type": "display_data"
    }
   ],
   "source": [
    "combined.plot()\n"
   ]
  },
  {
   "cell_type": "code",
   "execution_count": 61,
   "id": "ac9042bd",
   "metadata": {},
   "outputs": [],
   "source": [
    "core_weather[\"monthly_avg\"] = core_weather[\"temp_max\"].groupby(core_weather.index.month).apply(lambda x: x.expanding(1).mean())\n",
    "core_weather[\"day_of_year_avg\"] = core_weather[\"temp_max\"].groupby(core_weather.index.day_of_year).apply(lambda x: x.expanding(1).mean())\n"
   ]
  },
  {
   "cell_type": "code",
   "execution_count": 62,
   "id": "51941c84",
   "metadata": {},
   "outputs": [
    {
     "data": {
      "text/plain": [
       "20.609766803701767"
      ]
     },
     "execution_count": 62,
     "metadata": {},
     "output_type": "execute_result"
    }
   ],
   "source": [
    "error, combined = create_predictions(predictors + [\"monthly_avg\", \"day_of_year_avg\"], core_weather, reg)\n",
    "error\n"
   ]
  },
  {
   "cell_type": "code",
   "execution_count": 63,
   "id": "037976b4",
   "metadata": {},
   "outputs": [
    {
     "data": {
      "text/plain": [
       "array([-1.77744691,  0.41596194,  0.18051919, 15.34652086,  3.34143569,\n",
       "       -0.07622702,  0.41596194])"
      ]
     },
     "execution_count": 63,
     "metadata": {},
     "output_type": "execute_result"
    }
   ],
   "source": [
    "reg.coef_\n"
   ]
  },
  {
   "cell_type": "code",
   "execution_count": 64,
   "id": "62f48ca5",
   "metadata": {},
   "outputs": [
    {
     "data": {
      "text/plain": [
       "precip            -0.196876\n",
       "temp_max           0.829088\n",
       "temp_min           0.599049\n",
       "target             1.000000\n",
       "month_max          0.702048\n",
       "month_day_max     -0.416500\n",
       "max_min            0.100529\n",
       "monthly_avg        0.458792\n",
       "day_of_year_avg    0.781988\n",
       "Name: target, dtype: float64"
      ]
     },
     "execution_count": 64,
     "metadata": {},
     "output_type": "execute_result"
    }
   ],
   "source": [
    "core_weather.corr()[\"target\"]\n"
   ]
  },
  {
   "cell_type": "code",
   "execution_count": 65,
   "id": "efe57dcf",
   "metadata": {},
   "outputs": [],
   "source": [
    "combined[\"diff\"] = (combined[\"actual\"] - combined[\"predictions\"]).abs()\n"
   ]
  },
  {
   "cell_type": "code",
   "execution_count": 66,
   "id": "c7b62f48",
   "metadata": {},
   "outputs": [
    {
     "data": {
      "text/html": [
       "<div>\n",
       "<style scoped>\n",
       "    .dataframe tbody tr th:only-of-type {\n",
       "        vertical-align: middle;\n",
       "    }\n",
       "\n",
       "    .dataframe tbody tr th {\n",
       "        vertical-align: top;\n",
       "    }\n",
       "\n",
       "    .dataframe thead th {\n",
       "        text-align: right;\n",
       "    }\n",
       "</style>\n",
       "<table border=\"1\" class=\"dataframe\">\n",
       "  <thead>\n",
       "    <tr style=\"text-align: right;\">\n",
       "      <th></th>\n",
       "      <th>actual</th>\n",
       "      <th>predictions</th>\n",
       "      <th>diff</th>\n",
       "    </tr>\n",
       "    <tr>\n",
       "      <th>DATE</th>\n",
       "      <th></th>\n",
       "      <th></th>\n",
       "      <th></th>\n",
       "    </tr>\n",
       "  </thead>\n",
       "  <tbody>\n",
       "    <tr>\n",
       "      <th>2022-06-20</th>\n",
       "      <td>98.0</td>\n",
       "      <td>74.639987</td>\n",
       "      <td>23.360013</td>\n",
       "    </tr>\n",
       "    <tr>\n",
       "      <th>2022-05-23</th>\n",
       "      <td>86.0</td>\n",
       "      <td>67.918388</td>\n",
       "      <td>18.081612</td>\n",
       "    </tr>\n",
       "    <tr>\n",
       "      <th>2022-03-09</th>\n",
       "      <td>91.0</td>\n",
       "      <td>75.081004</td>\n",
       "      <td>15.918996</td>\n",
       "    </tr>\n",
       "    <tr>\n",
       "      <th>2022-05-04</th>\n",
       "      <td>80.0</td>\n",
       "      <td>64.928525</td>\n",
       "      <td>15.071475</td>\n",
       "    </tr>\n",
       "    <tr>\n",
       "      <th>2022-06-04</th>\n",
       "      <td>86.0</td>\n",
       "      <td>71.109756</td>\n",
       "      <td>14.890244</td>\n",
       "    </tr>\n",
       "    <tr>\n",
       "      <th>2022-10-18</th>\n",
       "      <td>87.0</td>\n",
       "      <td>72.434236</td>\n",
       "      <td>14.565764</td>\n",
       "    </tr>\n",
       "    <tr>\n",
       "      <th>2022-05-09</th>\n",
       "      <td>102.0</td>\n",
       "      <td>87.786286</td>\n",
       "      <td>14.213714</td>\n",
       "    </tr>\n",
       "    <tr>\n",
       "      <th>2022-04-09</th>\n",
       "      <td>97.0</td>\n",
       "      <td>83.085521</td>\n",
       "      <td>13.914479</td>\n",
       "    </tr>\n",
       "    <tr>\n",
       "      <th>2022-03-21</th>\n",
       "      <td>78.0</td>\n",
       "      <td>64.267198</td>\n",
       "      <td>13.732802</td>\n",
       "    </tr>\n",
       "    <tr>\n",
       "      <th>2022-12-31</th>\n",
       "      <td>62.0</td>\n",
       "      <td>48.324813</td>\n",
       "      <td>13.675187</td>\n",
       "    </tr>\n",
       "  </tbody>\n",
       "</table>\n",
       "</div>"
      ],
      "text/plain": [
       "            actual  predictions       diff\n",
       "DATE                                      \n",
       "2022-06-20    98.0    74.639987  23.360013\n",
       "2022-05-23    86.0    67.918388  18.081612\n",
       "2022-03-09    91.0    75.081004  15.918996\n",
       "2022-05-04    80.0    64.928525  15.071475\n",
       "2022-06-04    86.0    71.109756  14.890244\n",
       "2022-10-18    87.0    72.434236  14.565764\n",
       "2022-05-09   102.0    87.786286  14.213714\n",
       "2022-04-09    97.0    83.085521  13.914479\n",
       "2022-03-21    78.0    64.267198  13.732802\n",
       "2022-12-31    62.0    48.324813  13.675187"
      ]
     },
     "execution_count": 66,
     "metadata": {},
     "output_type": "execute_result"
    }
   ],
   "source": [
    "combined.sort_values(\"diff\", ascending=False).head(10)\n"
   ]
  },
  {
   "cell_type": "code",
   "execution_count": null,
   "id": "809264fc",
   "metadata": {},
   "outputs": [],
   "source": []
  }
 ],
 "metadata": {
  "kernelspec": {
   "display_name": "Python 3 (ipykernel)",
   "language": "python",
   "name": "python3"
  },
  "language_info": {
   "codemirror_mode": {
    "name": "ipython",
    "version": 3
   },
   "file_extension": ".py",
   "mimetype": "text/x-python",
   "name": "python",
   "nbconvert_exporter": "python",
   "pygments_lexer": "ipython3",
   "version": "3.9.12"
  }
 },
 "nbformat": 4,
 "nbformat_minor": 5
}
